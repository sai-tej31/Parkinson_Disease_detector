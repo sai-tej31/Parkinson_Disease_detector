{
 "cells": [
  {
   "cell_type": "markdown",
   "metadata": {},
   "source": [
    "#                             Parkinson - Disease -Classifier"
   ]
  },
  {
   "cell_type": "markdown",
   "metadata": {},
   "source": [
    "## Let Us Import some libraries\n",
    "\n"
   ]
  },
  {
   "cell_type": "code",
   "execution_count": 46,
   "metadata": {},
   "outputs": [],
   "source": [
    "import numpy as np # linear algebra\n",
    "import pandas as pd # data processing, CSV file I/O (e.g. pd.read_csv)\n",
    "from sklearn.model_selection import train_test_split\n",
    "from sklearn.ensemble import RandomForestClassifier\n",
    "from sklearn.metrics import classification_report, confusion_matrix, accuracy_score\n",
    "from sklearn import metrics\n",
    "from sklearn.linear_model import LogisticRegression\n",
    "from sklearn.metrics import recall_score\n",
    "from sklearn.metrics import plot_confusion_matrix\n",
    "from sklearn.metrics import precision_recall_curve\n",
    "import matplotlib.pyplot as plt\n"
   ]
  },
  {
   "cell_type": "markdown",
   "metadata": {},
   "source": [
    "#### Data\n",
    "Data is read from file which was created from data_file.py using data from the dataset"
   ]
  },
  {
   "cell_type": "code",
   "execution_count": 47,
   "metadata": {},
   "outputs": [],
   "source": [
    "data = pd.read_csv(\"file.csv\")\n"
   ]
  },
  {
   "cell_type": "raw",
   "metadata": {},
   "source": [
    "Let us now look at the data "
   ]
  },
  {
   "cell_type": "code",
   "execution_count": 48,
   "metadata": {},
   "outputs": [
    {
     "data": {
      "text/html": [
       "<div>\n",
       "<style scoped>\n",
       "    .dataframe tbody tr th:only-of-type {\n",
       "        vertical-align: middle;\n",
       "    }\n",
       "\n",
       "    .dataframe tbody tr th {\n",
       "        vertical-align: top;\n",
       "    }\n",
       "\n",
       "    .dataframe thead th {\n",
       "        text-align: right;\n",
       "    }\n",
       "</style>\n",
       "<table border=\"1\" class=\"dataframe\">\n",
       "  <thead>\n",
       "    <tr style=\"text-align: right;\">\n",
       "      <th></th>\n",
       "      <th>pressure</th>\n",
       "      <th>grip_angle</th>\n",
       "      <th>timestamp</th>\n",
       "      <th>state</th>\n",
       "      <th>status</th>\n",
       "    </tr>\n",
       "  </thead>\n",
       "  <tbody>\n",
       "    <tr>\n",
       "      <th>0</th>\n",
       "      <td>884.200931</td>\n",
       "      <td>794.317300</td>\n",
       "      <td>115.650000</td>\n",
       "      <td>static</td>\n",
       "      <td>1</td>\n",
       "    </tr>\n",
       "    <tr>\n",
       "      <th>1</th>\n",
       "      <td>910.966791</td>\n",
       "      <td>662.641217</td>\n",
       "      <td>115.650000</td>\n",
       "      <td>dynamic</td>\n",
       "      <td>1</td>\n",
       "    </tr>\n",
       "    <tr>\n",
       "      <th>2</th>\n",
       "      <td>NaN</td>\n",
       "      <td>NaN</td>\n",
       "      <td>0.000000</td>\n",
       "      <td>circular</td>\n",
       "      <td>1</td>\n",
       "    </tr>\n",
       "    <tr>\n",
       "      <th>3</th>\n",
       "      <td>788.450502</td>\n",
       "      <td>782.556671</td>\n",
       "      <td>1052.316667</td>\n",
       "      <td>static</td>\n",
       "      <td>1</td>\n",
       "    </tr>\n",
       "    <tr>\n",
       "      <th>4</th>\n",
       "      <td>926.910511</td>\n",
       "      <td>902.801802</td>\n",
       "      <td>1052.316667</td>\n",
       "      <td>dynamic</td>\n",
       "      <td>1</td>\n",
       "    </tr>\n",
       "    <tr>\n",
       "      <th>...</th>\n",
       "      <td>...</td>\n",
       "      <td>...</td>\n",
       "      <td>...</td>\n",
       "      <td>...</td>\n",
       "      <td>...</td>\n",
       "    </tr>\n",
       "    <tr>\n",
       "      <th>226</th>\n",
       "      <td>566.743542</td>\n",
       "      <td>577.607638</td>\n",
       "      <td>268.833333</td>\n",
       "      <td>dynamic</td>\n",
       "      <td>0</td>\n",
       "    </tr>\n",
       "    <tr>\n",
       "      <th>227</th>\n",
       "      <td>613.129992</td>\n",
       "      <td>686.018125</td>\n",
       "      <td>268.833333</td>\n",
       "      <td>circular</td>\n",
       "      <td>0</td>\n",
       "    </tr>\n",
       "    <tr>\n",
       "      <th>228</th>\n",
       "      <td>532.731178</td>\n",
       "      <td>603.585907</td>\n",
       "      <td>268.833333</td>\n",
       "      <td>static</td>\n",
       "      <td>0</td>\n",
       "    </tr>\n",
       "    <tr>\n",
       "      <th>229</th>\n",
       "      <td>566.743542</td>\n",
       "      <td>577.607638</td>\n",
       "      <td>268.833333</td>\n",
       "      <td>dynamic</td>\n",
       "      <td>0</td>\n",
       "    </tr>\n",
       "    <tr>\n",
       "      <th>230</th>\n",
       "      <td>613.129992</td>\n",
       "      <td>686.018125</td>\n",
       "      <td>268.833333</td>\n",
       "      <td>circular</td>\n",
       "      <td>0</td>\n",
       "    </tr>\n",
       "  </tbody>\n",
       "</table>\n",
       "<p>231 rows × 5 columns</p>\n",
       "</div>"
      ],
      "text/plain": [
       "       pressure  grip_angle    timestamp     state  status\n",
       "0    884.200931  794.317300   115.650000    static       1\n",
       "1    910.966791  662.641217   115.650000   dynamic       1\n",
       "2           NaN         NaN     0.000000  circular       1\n",
       "3    788.450502  782.556671  1052.316667    static       1\n",
       "4    926.910511  902.801802  1052.316667   dynamic       1\n",
       "..          ...         ...          ...       ...     ...\n",
       "226  566.743542  577.607638   268.833333   dynamic       0\n",
       "227  613.129992  686.018125   268.833333  circular       0\n",
       "228  532.731178  603.585907   268.833333    static       0\n",
       "229  566.743542  577.607638   268.833333   dynamic       0\n",
       "230  613.129992  686.018125   268.833333  circular       0\n",
       "\n",
       "[231 rows x 5 columns]"
      ]
     },
     "execution_count": 48,
     "metadata": {},
     "output_type": "execute_result"
    }
   ],
   "source": [
    "data"
   ]
  },
  {
   "cell_type": "markdown",
   "metadata": {},
   "source": [
    "Let's check if have any missing data"
   ]
  },
  {
   "cell_type": "code",
   "execution_count": 49,
   "metadata": {},
   "outputs": [
    {
     "name": "stdout",
     "output_type": "stream",
     "text": [
      "True\n"
     ]
    }
   ],
   "source": [
    "print(data.isnull().values.any())"
   ]
  },
  {
   "cell_type": "markdown",
   "metadata": {},
   "source": [
    "* How many missing values for each feature"
   ]
  },
  {
   "cell_type": "code",
   "execution_count": 50,
   "metadata": {},
   "outputs": [
    {
     "name": "stdout",
     "output_type": "stream",
     "text": [
      "pressure      29\n",
      "grip_angle    29\n",
      "timestamp      0\n",
      "state          0\n",
      "status         0\n",
      "dtype: int64\n"
     ]
    }
   ],
   "source": [
    "print(data.isnull().sum())"
   ]
  },
  {
   "cell_type": "markdown",
   "metadata": {},
   "source": [
    "###### we have missing data in pressure and grip angle lets remove all the missing data"
   ]
  },
  {
   "cell_type": "code",
   "execution_count": 51,
   "metadata": {},
   "outputs": [],
   "source": [
    "data = data.dropna() "
   ]
  },
  {
   "cell_type": "markdown",
   "metadata": {},
   "source": [
    "let us now look at the data after removing all the missing data"
   ]
  },
  {
   "cell_type": "code",
   "execution_count": 52,
   "metadata": {},
   "outputs": [
    {
     "data": {
      "text/html": [
       "<div>\n",
       "<style scoped>\n",
       "    .dataframe tbody tr th:only-of-type {\n",
       "        vertical-align: middle;\n",
       "    }\n",
       "\n",
       "    .dataframe tbody tr th {\n",
       "        vertical-align: top;\n",
       "    }\n",
       "\n",
       "    .dataframe thead th {\n",
       "        text-align: right;\n",
       "    }\n",
       "</style>\n",
       "<table border=\"1\" class=\"dataframe\">\n",
       "  <thead>\n",
       "    <tr style=\"text-align: right;\">\n",
       "      <th></th>\n",
       "      <th>pressure</th>\n",
       "      <th>grip_angle</th>\n",
       "      <th>timestamp</th>\n",
       "      <th>state</th>\n",
       "      <th>status</th>\n",
       "    </tr>\n",
       "  </thead>\n",
       "  <tbody>\n",
       "    <tr>\n",
       "      <th>0</th>\n",
       "      <td>884.200931</td>\n",
       "      <td>794.317300</td>\n",
       "      <td>115.650000</td>\n",
       "      <td>static</td>\n",
       "      <td>1</td>\n",
       "    </tr>\n",
       "    <tr>\n",
       "      <th>1</th>\n",
       "      <td>910.966791</td>\n",
       "      <td>662.641217</td>\n",
       "      <td>115.650000</td>\n",
       "      <td>dynamic</td>\n",
       "      <td>1</td>\n",
       "    </tr>\n",
       "    <tr>\n",
       "      <th>3</th>\n",
       "      <td>788.450502</td>\n",
       "      <td>782.556671</td>\n",
       "      <td>1052.316667</td>\n",
       "      <td>static</td>\n",
       "      <td>1</td>\n",
       "    </tr>\n",
       "    <tr>\n",
       "      <th>4</th>\n",
       "      <td>926.910511</td>\n",
       "      <td>902.801802</td>\n",
       "      <td>1052.316667</td>\n",
       "      <td>dynamic</td>\n",
       "      <td>1</td>\n",
       "    </tr>\n",
       "    <tr>\n",
       "      <th>6</th>\n",
       "      <td>843.550013</td>\n",
       "      <td>903.502152</td>\n",
       "      <td>1228.116667</td>\n",
       "      <td>static</td>\n",
       "      <td>1</td>\n",
       "    </tr>\n",
       "    <tr>\n",
       "      <th>...</th>\n",
       "      <td>...</td>\n",
       "      <td>...</td>\n",
       "      <td>...</td>\n",
       "      <td>...</td>\n",
       "      <td>...</td>\n",
       "    </tr>\n",
       "    <tr>\n",
       "      <th>226</th>\n",
       "      <td>566.743542</td>\n",
       "      <td>577.607638</td>\n",
       "      <td>268.833333</td>\n",
       "      <td>dynamic</td>\n",
       "      <td>0</td>\n",
       "    </tr>\n",
       "    <tr>\n",
       "      <th>227</th>\n",
       "      <td>613.129992</td>\n",
       "      <td>686.018125</td>\n",
       "      <td>268.833333</td>\n",
       "      <td>circular</td>\n",
       "      <td>0</td>\n",
       "    </tr>\n",
       "    <tr>\n",
       "      <th>228</th>\n",
       "      <td>532.731178</td>\n",
       "      <td>603.585907</td>\n",
       "      <td>268.833333</td>\n",
       "      <td>static</td>\n",
       "      <td>0</td>\n",
       "    </tr>\n",
       "    <tr>\n",
       "      <th>229</th>\n",
       "      <td>566.743542</td>\n",
       "      <td>577.607638</td>\n",
       "      <td>268.833333</td>\n",
       "      <td>dynamic</td>\n",
       "      <td>0</td>\n",
       "    </tr>\n",
       "    <tr>\n",
       "      <th>230</th>\n",
       "      <td>613.129992</td>\n",
       "      <td>686.018125</td>\n",
       "      <td>268.833333</td>\n",
       "      <td>circular</td>\n",
       "      <td>0</td>\n",
       "    </tr>\n",
       "  </tbody>\n",
       "</table>\n",
       "<p>202 rows × 5 columns</p>\n",
       "</div>"
      ],
      "text/plain": [
       "       pressure  grip_angle    timestamp     state  status\n",
       "0    884.200931  794.317300   115.650000    static       1\n",
       "1    910.966791  662.641217   115.650000   dynamic       1\n",
       "3    788.450502  782.556671  1052.316667    static       1\n",
       "4    926.910511  902.801802  1052.316667   dynamic       1\n",
       "6    843.550013  903.502152  1228.116667    static       1\n",
       "..          ...         ...          ...       ...     ...\n",
       "226  566.743542  577.607638   268.833333   dynamic       0\n",
       "227  613.129992  686.018125   268.833333  circular       0\n",
       "228  532.731178  603.585907   268.833333    static       0\n",
       "229  566.743542  577.607638   268.833333   dynamic       0\n",
       "230  613.129992  686.018125   268.833333  circular       0\n",
       "\n",
       "[202 rows x 5 columns]"
      ]
     },
     "execution_count": 52,
     "metadata": {},
     "output_type": "execute_result"
    }
   ],
   "source": [
    "data"
   ]
  },
  {
   "cell_type": "markdown",
   "metadata": {},
   "source": [
    "* we have removed the row which contains null values,let's check again "
   ]
  },
  {
   "cell_type": "code",
   "execution_count": 53,
   "metadata": {},
   "outputs": [
    {
     "name": "stdout",
     "output_type": "stream",
     "text": [
      "pressure      0\n",
      "grip_angle    0\n",
      "timestamp     0\n",
      "state         0\n",
      "status        0\n",
      "dtype: int64\n"
     ]
    }
   ],
   "source": [
    "print(data.isnull().sum())"
   ]
  },
  {
   "cell_type": "code",
   "execution_count": 54,
   "metadata": {},
   "outputs": [],
   "source": [
    "X=data.drop('status',axis=1)\n",
    "y=data['status']"
   ]
  },
  {
   "cell_type": "markdown",
   "metadata": {},
   "source": [
    "## Lets split the data using in-built functions from the sklearn library "
   ]
  },
  {
   "cell_type": "code",
   "execution_count": 55,
   "metadata": {},
   "outputs": [],
   "source": [
    "# Let us now split the data into train and test before it shuffle the data\n",
    "\n",
    "X_train, X_test, y_train, y_test = train_test_split(X, y,test_size=0.2, random_state= 42, shuffle=True)\n"
   ]
  },
  {
   "cell_type": "markdown",
   "metadata": {},
   "source": [
    "##### Print the shapes of training and test datasets"
   ]
  },
  {
   "cell_type": "code",
   "execution_count": 56,
   "metadata": {},
   "outputs": [
    {
     "name": "stdout",
     "output_type": "stream",
     "text": [
      "(161, 4)\n",
      "(161,)\n",
      "(41, 4)\n",
      "(41,)\n"
     ]
    }
   ],
   "source": [
    "print(X_train.shape)\n",
    "print(y_train.shape)\n",
    "print(X_test.shape)\n",
    "print(y_test.shape)\n"
   ]
  },
  {
   "cell_type": "markdown",
   "metadata": {},
   "source": [
    "### Lets Look at our shuffled data"
   ]
  },
  {
   "cell_type": "code",
   "execution_count": 57,
   "metadata": {},
   "outputs": [
    {
     "name": "stdout",
     "output_type": "stream",
     "text": [
      "Train Data: \n",
      "        pressure   grip_angle      timestamp     state\n",
      "228  532.731178   603.585907     268.833333    static\n",
      "46   478.082488   992.984379    1832.233333   dynamic\n",
      "32     0.000000  1663.111979  136795.166667  circular\n",
      "138  702.376674  1394.885529     691.216667    static\n",
      "226  566.743542   577.607638     268.833333   dynamic\n",
      "\n",
      " Test Data: \n",
      "        pressure   grip_angle      timestamp     state\n",
      "104  378.284667  1075.520000     325.133333  circular\n",
      "22   532.802145  1400.946777     196.683333   dynamic\n",
      "38     0.000000  1663.111979  163301.800000  circular\n",
      "188  471.240627   561.264689     176.750000  circular\n",
      "215  199.375050   682.022608     217.666667  circular\n"
     ]
    }
   ],
   "source": [
    "print(\"Train Data:\",'\\n', X_train.head() )\n",
    "print('\\n',\"Test Data:\",'\\n', X_test.head())"
   ]
  },
  {
   "cell_type": "markdown",
   "metadata": {},
   "source": [
    "## Random Forest Classifier\n",
    " ###### Let's add the 4 Features from the file  and train our  model  "
   ]
  },
  {
   "cell_type": "code",
   "execution_count": 58,
   "metadata": {},
   "outputs": [
    {
     "name": "stdout",
     "output_type": "stream",
     "text": [
      "Accuracy of Random Forest: 0.926829268292683\n"
     ]
    }
   ],
   "source": [
    "'''\n",
    "RANDOM FOREST MODEL FOR CLASSIFICATION\n",
    "'''\n",
    "\n",
    "features = [\"pressure\",\"grip_angle\",\"timestamp\",\"state\"]\n",
    "\n",
    "X = pd.get_dummies(X_train[features])\n",
    "X_test = pd.get_dummies(X_test[features])\n",
    "\n",
    "model = RandomForestClassifier(n_estimators = 50,max_depth = 4 ,random_state= 0) \n",
    "model.fit(X,y_train)\n",
    "y_pred = model.predict(X_test)\n",
    "print(\"Accuracy of Random Forest:\",metrics.accuracy_score(y_test, y_pred))\n"
   ]
  },
  {
   "cell_type": "markdown",
   "metadata": {},
   "source": [
    "Bingo! we have got an accuracy of 0.926829268292683\n",
    "Tune the hyperparameters to get more accuracy"
   ]
  },
  {
   "cell_type": "markdown",
   "metadata": {},
   "source": [
    "### Let's look at\n",
    "* Confusion Matrix\n",
    "* Precision\n",
    "* Recall"
   ]
  },
  {
   "cell_type": "code",
   "execution_count": 59,
   "metadata": {},
   "outputs": [
    {
     "data": {
      "text/plain": [
       "<sklearn.metrics._plot.confusion_matrix.ConfusionMatrixDisplay at 0x22bb8a64a58>"
      ]
     },
     "execution_count": 59,
     "metadata": {},
     "output_type": "execute_result"
    },
    {
     "data": {
      "image/png": "[encoded data removed]",
      "text/plain": [
       "<Figure size 432x288 with 2 Axes>"
      ]
     },
     "metadata": {
      "needs_background": "light"
     },
     "output_type": "display_data"
    }
   ],
   "source": [
    "plot_confusion_matrix(model, X_test, y_test)\n"
   ]
  },
  {
   "cell_type": "code",
   "execution_count": 69,
   "metadata": {},
   "outputs": [
    {
     "name": "stdout",
     "output_type": "stream",
     "text": [
      "Precision: [0.12195122 1.         1.        ]\n",
      "Recall: [1.  0.4 0. ]\n"
     ]
    }
   ],
   "source": [
    "precision, recall, thresholds = precision_recall_curve(y_test,y_pred)\n",
    "print(\"Precision:\" , precision)\n",
    "print(\"Recall:\",recall)\n"
   ]
  },
  {
   "cell_type": "markdown",
   "metadata": {},
   "source": [
    "# Logistic Regression"
   ]
  },
  {
   "cell_type": "code",
   "execution_count": 26,
   "metadata": {},
   "outputs": [
    {
     "name": "stdout",
     "output_type": "stream",
     "text": [
      "Accuracy of Logistic regression: 0.9024390243902439\n"
     ]
    }
   ],
   "source": [
    "'''\n",
    "LOGISTIC REGRESSION MODEL FOR CLASSIFICATION\n",
    "'''\n",
    "model2 = LogisticRegression(penalty= 'l2' ,random_state= 10 ,max_iter=100,solver='liblinear').fit(X,y_train)\n",
    "y_pred2 = model2.predict(X_test)\n",
    "\n",
    "print(\"Accuracy of Logistic regression:\",metrics.accuracy_score(y_test, y_pred2))"
   ]
  },
  {
   "cell_type": "code",
   "execution_count": 27,
   "metadata": {},
   "outputs": [
    {
     "data": {
      "text/plain": [
       "<sklearn.metrics._plot.confusion_matrix.ConfusionMatrixDisplay at 0x22bbaeae2b0>"
      ]
     },
     "execution_count": 27,
     "metadata": {},
     "output_type": "execute_result"
    },
    {
     "data": {
      "image/png": "[encoded data removed]",
      "text/plain": [
       "<Figure size 432x288 with 2 Axes>"
      ]
     },
     "metadata": {
      "needs_background": "light"
     },
     "output_type": "display_data"
    }
   ],
   "source": [
    "plot_confusion_matrix(model2, X_test, y_test)\n"
   ]
  },
  {
   "cell_type": "markdown",
   "metadata": {},
   "source": [
    "Note: This file is still to be updated"
   ]
  }
 ],
 "metadata": {
  "kernelspec": {
   "display_name": "Python 3",
   "language": "python",
   "name": "python3"
  },
  "language_info": {
   "codemirror_mode": {
    "name": "ipython",
    "version": 3
   },
   "file_extension": ".py",
   "mimetype": "text/x-python",
   "name": "python",
   "nbconvert_exporter": "python",
   "pygments_lexer": "ipython3",
   "version": "3.7.3"
  }
 },
 "nbformat": 4,
 "nbformat_minor": 4
}
