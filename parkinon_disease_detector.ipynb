{
 "cells": [
  {
   "cell_type": "markdown",
   "metadata": {},
   "source": [
    "#                             Parkinson - Disease -Classifier"
   ]
  },
  {
   "cell_type": "markdown",
   "metadata": {},
   "source": [
    "## Let Us Import some libraries\n",
    "\n"
   ]
  },
  {
   "cell_type": "code",
   "execution_count": 19,
   "metadata": {},
   "outputs": [],
   "source": [
    "import numpy as np # linear algebra\n",
    "import pandas as pd # data processing, CSV file I/O (e.g. pd.read_csv)\n",
    "from sklearn.model_selection import train_test_split\n",
    "from sklearn.ensemble import RandomForestClassifier\n",
    "from sklearn.metrics import classification_report, confusion_matrix, accuracy_score\n",
    "from sklearn import metrics\n",
    "from sklearn.linear_model import LogisticRegression\n"
   ]
  },
  {
   "cell_type": "markdown",
   "metadata": {},
   "source": [
    "#### Data\n",
    "Data is read from file which was created from dat_file.py using data from the dataset"
   ]
  },
  {
   "cell_type": "code",
   "execution_count": 20,
   "metadata": {},
   "outputs": [],
   "source": [
    "data = pd.read_csv(\"file.csv\")\n"
   ]
  },
  {
   "cell_type": "raw",
   "metadata": {},
   "source": [
    "Let us now look at the data "
   ]
  },
  {
   "cell_type": "code",
   "execution_count": 21,
   "metadata": {},
   "outputs": [
    {
     "data": {
      "text/html": [
       "<div>\n",
       "<style scoped>\n",
       "    .dataframe tbody tr th:only-of-type {\n",
       "        vertical-align: middle;\n",
       "    }\n",
       "\n",
       "    .dataframe tbody tr th {\n",
       "        vertical-align: top;\n",
       "    }\n",
       "\n",
       "    .dataframe thead th {\n",
       "        text-align: right;\n",
       "    }\n",
       "</style>\n",
       "<table border=\"1\" class=\"dataframe\">\n",
       "  <thead>\n",
       "    <tr style=\"text-align: right;\">\n",
       "      <th></th>\n",
       "      <th>pressure</th>\n",
       "      <th>grip_angle</th>\n",
       "      <th>timestamp</th>\n",
       "      <th>state</th>\n",
       "      <th>status</th>\n",
       "    </tr>\n",
       "  </thead>\n",
       "  <tbody>\n",
       "    <tr>\n",
       "      <th>0</th>\n",
       "      <td>884.200931</td>\n",
       "      <td>794.317300</td>\n",
       "      <td>115.650000</td>\n",
       "      <td>static</td>\n",
       "      <td>1</td>\n",
       "    </tr>\n",
       "    <tr>\n",
       "      <th>1</th>\n",
       "      <td>910.966791</td>\n",
       "      <td>662.641217</td>\n",
       "      <td>115.650000</td>\n",
       "      <td>dynamic</td>\n",
       "      <td>1</td>\n",
       "    </tr>\n",
       "    <tr>\n",
       "      <th>2</th>\n",
       "      <td>788.450502</td>\n",
       "      <td>782.556671</td>\n",
       "      <td>1052.316667</td>\n",
       "      <td>static</td>\n",
       "      <td>1</td>\n",
       "    </tr>\n",
       "    <tr>\n",
       "      <th>3</th>\n",
       "      <td>926.910511</td>\n",
       "      <td>902.801802</td>\n",
       "      <td>1052.316667</td>\n",
       "      <td>dynamic</td>\n",
       "      <td>1</td>\n",
       "    </tr>\n",
       "    <tr>\n",
       "      <th>4</th>\n",
       "      <td>843.550013</td>\n",
       "      <td>903.502152</td>\n",
       "      <td>1228.116667</td>\n",
       "      <td>static</td>\n",
       "      <td>1</td>\n",
       "    </tr>\n",
       "    <tr>\n",
       "      <th>...</th>\n",
       "      <td>...</td>\n",
       "      <td>...</td>\n",
       "      <td>...</td>\n",
       "      <td>...</td>\n",
       "      <td>...</td>\n",
       "    </tr>\n",
       "    <tr>\n",
       "      <th>149</th>\n",
       "      <td>472.697735</td>\n",
       "      <td>940.653476</td>\n",
       "      <td>149.566667</td>\n",
       "      <td>dynamic</td>\n",
       "      <td>0</td>\n",
       "    </tr>\n",
       "    <tr>\n",
       "      <th>150</th>\n",
       "      <td>532.731178</td>\n",
       "      <td>603.585907</td>\n",
       "      <td>268.833333</td>\n",
       "      <td>static</td>\n",
       "      <td>0</td>\n",
       "    </tr>\n",
       "    <tr>\n",
       "      <th>151</th>\n",
       "      <td>593.152854</td>\n",
       "      <td>639.329249</td>\n",
       "      <td>268.833333</td>\n",
       "      <td>dynamic</td>\n",
       "      <td>0</td>\n",
       "    </tr>\n",
       "    <tr>\n",
       "      <th>152</th>\n",
       "      <td>532.731178</td>\n",
       "      <td>603.585907</td>\n",
       "      <td>268.833333</td>\n",
       "      <td>static</td>\n",
       "      <td>0</td>\n",
       "    </tr>\n",
       "    <tr>\n",
       "      <th>153</th>\n",
       "      <td>593.152854</td>\n",
       "      <td>639.329249</td>\n",
       "      <td>268.833333</td>\n",
       "      <td>dynamic</td>\n",
       "      <td>0</td>\n",
       "    </tr>\n",
       "  </tbody>\n",
       "</table>\n",
       "<p>154 rows × 5 columns</p>\n",
       "</div>"
      ],
      "text/plain": [
       "       pressure  grip_angle    timestamp    state  status\n",
       "0    884.200931  794.317300   115.650000   static       1\n",
       "1    910.966791  662.641217   115.650000  dynamic       1\n",
       "2    788.450502  782.556671  1052.316667   static       1\n",
       "3    926.910511  902.801802  1052.316667  dynamic       1\n",
       "4    843.550013  903.502152  1228.116667   static       1\n",
       "..          ...         ...          ...      ...     ...\n",
       "149  472.697735  940.653476   149.566667  dynamic       0\n",
       "150  532.731178  603.585907   268.833333   static       0\n",
       "151  593.152854  639.329249   268.833333  dynamic       0\n",
       "152  532.731178  603.585907   268.833333   static       0\n",
       "153  593.152854  639.329249   268.833333  dynamic       0\n",
       "\n",
       "[154 rows x 5 columns]"
      ]
     },
     "execution_count": 21,
     "metadata": {},
     "output_type": "execute_result"
    }
   ],
   "source": [
    "data"
   ]
  },
  {
   "cell_type": "markdown",
   "metadata": {},
   "source": [
    "Let us look at the missing data"
   ]
  },
  {
   "cell_type": "code",
   "execution_count": 22,
   "metadata": {},
   "outputs": [
    {
     "name": "stdout",
     "output_type": "stream",
     "text": [
      "pressure      1\n",
      "grip_angle    1\n",
      "timestamp     0\n",
      "state         0\n",
      "status        0\n",
      "dtype: int64\n"
     ]
    }
   ],
   "source": [
    "print(data.isnull().sum())"
   ]
  },
  {
   "cell_type": "markdown",
   "metadata": {},
   "source": [
    "###### we have missing data in pressure and grip angle lets remove that row alone"
   ]
  },
  {
   "cell_type": "code",
   "execution_count": 23,
   "metadata": {},
   "outputs": [],
   "source": [
    "data = data.dropna() "
   ]
  },
  {
   "cell_type": "markdown",
   "metadata": {},
   "source": [
    "lets look at the data"
   ]
  },
  {
   "cell_type": "code",
   "execution_count": 25,
   "metadata": {},
   "outputs": [
    {
     "data": {
      "text/html": [
       "<div>\n",
       "<style scoped>\n",
       "    .dataframe tbody tr th:only-of-type {\n",
       "        vertical-align: middle;\n",
       "    }\n",
       "\n",
       "    .dataframe tbody tr th {\n",
       "        vertical-align: top;\n",
       "    }\n",
       "\n",
       "    .dataframe thead th {\n",
       "        text-align: right;\n",
       "    }\n",
       "</style>\n",
       "<table border=\"1\" class=\"dataframe\">\n",
       "  <thead>\n",
       "    <tr style=\"text-align: right;\">\n",
       "      <th></th>\n",
       "      <th>pressure</th>\n",
       "      <th>grip_angle</th>\n",
       "      <th>timestamp</th>\n",
       "      <th>state</th>\n",
       "      <th>status</th>\n",
       "    </tr>\n",
       "  </thead>\n",
       "  <tbody>\n",
       "    <tr>\n",
       "      <th>0</th>\n",
       "      <td>884.200931</td>\n",
       "      <td>794.317300</td>\n",
       "      <td>115.650000</td>\n",
       "      <td>static</td>\n",
       "      <td>1</td>\n",
       "    </tr>\n",
       "    <tr>\n",
       "      <th>1</th>\n",
       "      <td>910.966791</td>\n",
       "      <td>662.641217</td>\n",
       "      <td>115.650000</td>\n",
       "      <td>dynamic</td>\n",
       "      <td>1</td>\n",
       "    </tr>\n",
       "    <tr>\n",
       "      <th>2</th>\n",
       "      <td>788.450502</td>\n",
       "      <td>782.556671</td>\n",
       "      <td>1052.316667</td>\n",
       "      <td>static</td>\n",
       "      <td>1</td>\n",
       "    </tr>\n",
       "    <tr>\n",
       "      <th>3</th>\n",
       "      <td>926.910511</td>\n",
       "      <td>902.801802</td>\n",
       "      <td>1052.316667</td>\n",
       "      <td>dynamic</td>\n",
       "      <td>1</td>\n",
       "    </tr>\n",
       "    <tr>\n",
       "      <th>4</th>\n",
       "      <td>843.550013</td>\n",
       "      <td>903.502152</td>\n",
       "      <td>1228.116667</td>\n",
       "      <td>static</td>\n",
       "      <td>1</td>\n",
       "    </tr>\n",
       "    <tr>\n",
       "      <th>...</th>\n",
       "      <td>...</td>\n",
       "      <td>...</td>\n",
       "      <td>...</td>\n",
       "      <td>...</td>\n",
       "      <td>...</td>\n",
       "    </tr>\n",
       "    <tr>\n",
       "      <th>149</th>\n",
       "      <td>472.697735</td>\n",
       "      <td>940.653476</td>\n",
       "      <td>149.566667</td>\n",
       "      <td>dynamic</td>\n",
       "      <td>0</td>\n",
       "    </tr>\n",
       "    <tr>\n",
       "      <th>150</th>\n",
       "      <td>532.731178</td>\n",
       "      <td>603.585907</td>\n",
       "      <td>268.833333</td>\n",
       "      <td>static</td>\n",
       "      <td>0</td>\n",
       "    </tr>\n",
       "    <tr>\n",
       "      <th>151</th>\n",
       "      <td>593.152854</td>\n",
       "      <td>639.329249</td>\n",
       "      <td>268.833333</td>\n",
       "      <td>dynamic</td>\n",
       "      <td>0</td>\n",
       "    </tr>\n",
       "    <tr>\n",
       "      <th>152</th>\n",
       "      <td>532.731178</td>\n",
       "      <td>603.585907</td>\n",
       "      <td>268.833333</td>\n",
       "      <td>static</td>\n",
       "      <td>0</td>\n",
       "    </tr>\n",
       "    <tr>\n",
       "      <th>153</th>\n",
       "      <td>593.152854</td>\n",
       "      <td>639.329249</td>\n",
       "      <td>268.833333</td>\n",
       "      <td>dynamic</td>\n",
       "      <td>0</td>\n",
       "    </tr>\n",
       "  </tbody>\n",
       "</table>\n",
       "<p>153 rows × 5 columns</p>\n",
       "</div>"
      ],
      "text/plain": [
       "       pressure  grip_angle    timestamp    state  status\n",
       "0    884.200931  794.317300   115.650000   static       1\n",
       "1    910.966791  662.641217   115.650000  dynamic       1\n",
       "2    788.450502  782.556671  1052.316667   static       1\n",
       "3    926.910511  902.801802  1052.316667  dynamic       1\n",
       "4    843.550013  903.502152  1228.116667   static       1\n",
       "..          ...         ...          ...      ...     ...\n",
       "149  472.697735  940.653476   149.566667  dynamic       0\n",
       "150  532.731178  603.585907   268.833333   static       0\n",
       "151  593.152854  639.329249   268.833333  dynamic       0\n",
       "152  532.731178  603.585907   268.833333   static       0\n",
       "153  593.152854  639.329249   268.833333  dynamic       0\n",
       "\n",
       "[153 rows x 5 columns]"
      ]
     },
     "execution_count": 25,
     "metadata": {},
     "output_type": "execute_result"
    }
   ],
   "source": [
    "data"
   ]
  },
  {
   "cell_type": "markdown",
   "metadata": {},
   "source": [
    "* we have removed the row which contains null values,let's check again "
   ]
  },
  {
   "cell_type": "code",
   "execution_count": 26,
   "metadata": {},
   "outputs": [
    {
     "name": "stdout",
     "output_type": "stream",
     "text": [
      "pressure      0\n",
      "grip_angle    0\n",
      "timestamp     0\n",
      "state         0\n",
      "status        0\n",
      "dtype: int64\n"
     ]
    }
   ],
   "source": [
    "print(data.isnull().sum())"
   ]
  },
  {
   "cell_type": "markdown",
   "metadata": {},
   "source": [
    "lets split the data using in built functions from the sklearn lib "
   ]
  },
  {
   "cell_type": "code",
   "execution_count": 27,
   "metadata": {},
   "outputs": [],
   "source": [
    "# Let us now split the data into train and test before it shuffle the data\n",
    "\n",
    "X_train, X_test, y_train, y_test = train_test_split(data, data.status,test_size=0.2, random_state=42, shuffle=True)\n"
   ]
  },
  {
   "cell_type": "markdown",
   "metadata": {},
   "source": [
    "##### Print the shapes of training and test datasets"
   ]
  },
  {
   "cell_type": "code",
   "execution_count": 28,
   "metadata": {},
   "outputs": [
    {
     "name": "stdout",
     "output_type": "stream",
     "text": [
      "(122, 5)\n",
      "(122,)\n",
      "(31, 5)\n",
      "(31,)\n"
     ]
    }
   ],
   "source": [
    "print(X_train.shape)\n",
    "print(y_train.shape)\n",
    "print(X_test.shape)\n",
    "print(y_test.shape)\n"
   ]
  },
  {
   "cell_type": "markdown",
   "metadata": {},
   "source": [
    "## Random Forest Classifier\n",
    " ###### Let's add the 4 Features from the file  and train our  model  "
   ]
  },
  {
   "cell_type": "code",
   "execution_count": 29,
   "metadata": {},
   "outputs": [
    {
     "name": "stdout",
     "output_type": "stream",
     "text": [
      "Accuracy of Random Forest: 0.967741935483871\n"
     ]
    }
   ],
   "source": [
    "'''\n",
    "RANDOM FOREST MODEL FOR CLASSIFICATION\n",
    "'''\n",
    "\n",
    "features = [\"pressure\",\"grip_angle\",\"timestamp\",\"state\"]\n",
    "\n",
    "X = pd.get_dummies(X_train[features])\n",
    "X_test = pd.get_dummies(X_test[features])\n",
    "\n",
    "model = RandomForestClassifier(n_estimators = 50,max_depth = 4 ,random_state=0 ) \n",
    "model.fit(X,y_train)\n",
    "y_pred = model.predict(X_test)\n",
    "print(\"Accuracy of Random Forest:\",metrics.accuracy_score(y_test, y_pred))\n"
   ]
  },
  {
   "cell_type": "markdown",
   "metadata": {},
   "source": [
    "Bingo! we have got an accuracy of 0.967741935483871\n",
    "Tune the hyperparameters to get more accuracy"
   ]
  },
  {
   "cell_type": "markdown",
   "metadata": {},
   "source": [
    "# Logistic Regression"
   ]
  },
  {
   "cell_type": "code",
   "execution_count": 30,
   "metadata": {},
   "outputs": [
    {
     "name": "stdout",
     "output_type": "stream",
     "text": [
      "Accuracy of Logistic regression: 0.9032258064516129\n"
     ]
    }
   ],
   "source": [
    "'''\n",
    "LOGISTIC REGRESSION MODEL FOR CLASSIFICATION\n",
    "'''\n",
    "model2 = LogisticRegression(penalty= 'none' ,random_state=0 ,max_iter=100,solver='lbfgs').fit(X,y_train)\n",
    "y_pred2 = model2.predict(X_test)\n",
    "\n",
    "print(\"Accuracy of Logistic regression:\",metrics.accuracy_score(y_test, y_pred2))"
   ]
  },
  {
   "cell_type": "markdown",
   "metadata": {},
   "source": [
    "Note: This file is still to be updated"
   ]
  }
 ],
 "metadata": {
  "kernelspec": {
   "display_name": "Python 3",
   "language": "python",
   "name": "python3"
  },
  "language_info": {
   "codemirror_mode": {
    "name": "ipython",
    "version": 3
   },
   "file_extension": ".py",
   "mimetype": "text/x-python",
   "name": "python",
   "nbconvert_exporter": "python",
   "pygments_lexer": "ipython3",
   "version": "3.7.3"
  }
 },
 "nbformat": 4,
 "nbformat_minor": 4
}
